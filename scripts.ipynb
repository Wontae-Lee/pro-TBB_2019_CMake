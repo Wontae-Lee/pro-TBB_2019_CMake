{
 "cells": [
  {
   "cell_type": "markdown",
   "metadata": {},
   "source": [
    "1. Delete Makefile and Makefile.nmake"
   ]
  },
  {
   "cell_type": "code",
   "execution_count": 6,
   "metadata": {},
   "outputs": [],
   "source": [
    "\n",
    "import os\n",
    "\n",
    "\n",
    "pwd = \"./\"\n",
    "for path, dirs, files in os.walk(pwd):\n",
    "    for file in files:\n",
    "        if file == \"Makefile.nmake\" or file==\"Makefile\":\n",
    "            os.remove(f\"{path}/{file}\")"
   ]
  },
  {
   "cell_type": "markdown",
   "metadata": {},
   "source": [
    "2. Delete CMakeLists.txt"
   ]
  },
  {
   "cell_type": "code",
   "execution_count": 1,
   "metadata": {},
   "outputs": [],
   "source": [
    "\n",
    "import os\n",
    "\n",
    "\n",
    "pwd = \"./\"\n",
    "for path, dirs, files in os.walk(pwd):\n",
    "    \n",
    "    # skip  ./CMakeLists.txt\n",
    "    if path == './':\n",
    "        continue\n",
    "    for file in files:\n",
    "        if file == \"CMakeLists.txt\":\n",
    "            os.remove(f\"{path}/{file}\")"
   ]
  },
  {
   "cell_type": "markdown",
   "metadata": {},
   "source": [
    "3. Generate CMakeLists.txt"
   ]
  },
  {
   "cell_type": "code",
   "execution_count": 2,
   "metadata": {},
   "outputs": [],
   "source": [
    "import os\n",
    "\n",
    "pwd = \"./\"\n",
    "for path, dirs, files in os.walk(pwd):\n",
    "    if path == './' or path == './.github':\n",
    "        continue\n",
    "    CMakeLists = f'{path}/CMakeLists.txt'\n",
    "    with open(CMakeLists,'a') as f:\n",
    "        for file in files:\n",
    "            if os.path.splitext(file)[1] == '.cpp' and os.path.splitext(file)[0] != 'lodepng' :\n",
    "        \n",
    "                target = os.path.splitext(file)[0]                \n",
    "                f.write(f'# {file}\\n')\n",
    "                f.write(f'add_executable({target}  {file})\\n')\n",
    "                f.write(f'target_link_libraries({target}  PRIVATE TBB::tbb)\\n\\n')\n",
    "    f.close()\n",
    "\n",
    "\n",
    "                                \n",
    " "
   ]
  },
  {
   "cell_type": "markdown",
   "metadata": {},
   "source": [
    "4. Write sub_module in root CMakeLists.txt"
   ]
  },
  {
   "cell_type": "code",
   "execution_count": 26,
   "metadata": {},
   "outputs": [],
   "source": [
    "import os\n",
    "from shutil import copyfile\n",
    "\n",
    "pwd = \"./\"\n",
    "CMakeLists_orig = f'{pwd}CMakeLists_origin.txt'\n",
    "copyfile(f'{pwd}CMakeLists.origin', f'{pwd}CMakeLists.txt')\n",
    "CMakeLists_txt = f'{pwd}CMakeLists.txt'\n",
    "\n",
    "with open(CMakeLists_txt,'a') as f:\n",
    "    for path, dirs, files in os.walk(pwd):\n",
    "        if path == './':\n",
    "            continue\n",
    "        temp = list(path)\n",
    "        if temp[2] == 'c':\n",
    "            f.write(f'add_subdirectory({path})\\n')  \n",
    "\n",
    "       \n",
    "f.close()\n"
   ]
  }
 ],
 "metadata": {
  "kernelspec": {
   "display_name": "Python 3.10.6 64-bit",
   "language": "python",
   "name": "python3"
  },
  "language_info": {
   "codemirror_mode": {
    "name": "ipython",
    "version": 3
   },
   "file_extension": ".py",
   "mimetype": "text/x-python",
   "name": "python",
   "nbconvert_exporter": "python",
   "pygments_lexer": "ipython3",
   "version": "3.10.6"
  },
  "orig_nbformat": 4,
  "vscode": {
   "interpreter": {
    "hash": "e7370f93d1d0cde622a1f8e1c04877d8463912d04d973331ad4851f04de6915a"
   }
  }
 },
 "nbformat": 4,
 "nbformat_minor": 2
}
